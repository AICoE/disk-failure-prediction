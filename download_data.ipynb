{
 "cells": [
  {
   "cell_type": "markdown",
   "metadata": {},
   "source": [
    "### Download and unzip Q2 2019 Data"
   ]
  },
  {
   "cell_type": "code",
   "execution_count": 10,
   "metadata": {},
   "outputs": [],
   "source": [
    "import requests\n",
    "import zipfile"
   ]
  },
  {
   "cell_type": "code",
   "execution_count": 9,
   "metadata": {},
   "outputs": [
    {
     "name": "stdout",
     "output_type": "stream",
     "text": [
      "200\n",
      "application/zip\n",
      "None\n"
     ]
    }
   ],
   "source": [
    "\n",
    "# Download data \n",
    "url = 'https://f001.backblazeb2.com/file/Backblaze-Hard-Drive-Data/data_Q2_2019.zip'\n",
    "r = requests.get(url)\n",
    "\n",
    "with open('Backblaze.zip', 'wb') as f:\n",
    "    f.write(r.content)\n",
    "\n",
    "print(r.status_code)\n",
    "print(r.headers['content-type'])\n",
    "print(r.encoding)"
   ]
  },
  {
   "cell_type": "code",
   "execution_count": 12,
   "metadata": {},
   "outputs": [],
   "source": [
    "with zipfile.ZipFile(\"Backblaze.zip\",\"r\") as zip_ref:\n",
    "    zip_ref.extractall(\"Backblaze/data_Q2_2019\")"
   ]
  },
  {
   "cell_type": "markdown",
   "metadata": {},
   "source": [
    "#### Use [convert_backblaze.ipynb](https://github.com/MichaelClifford/Backblaze/blob/master/convert_backblaze.ipynb) to process the data"
   ]
  }
 ],
 "metadata": {
  "kernelspec": {
   "display_name": "devenv",
   "language": "python",
   "name": "devenv"
  },
  "language_info": {
   "codemirror_mode": {
    "name": "ipython",
    "version": 3
   },
   "file_extension": ".py",
   "mimetype": "text/x-python",
   "name": "python",
   "nbconvert_exporter": "python",
   "pygments_lexer": "ipython3",
   "version": "3.7.4"
  }
 },
 "nbformat": 4,
 "nbformat_minor": 2
}
